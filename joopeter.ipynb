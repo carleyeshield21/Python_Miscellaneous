{
 "cells": [
  {
   "cell_type": "markdown",
   "id": "80cd08bc-4fb5-4280-8bb2-370e4f60096b",
   "metadata": {},
   "source": [
    "# importing modules"
   ]
  },
  {
   "cell_type": "code",
   "execution_count": 136,
   "id": "7614df41-3ef3-4f06-9bb6-b4bac76fe45a",
   "metadata": {},
   "outputs": [],
   "source": [
    "import pandas\n",
    "import matplotlib"
   ]
  },
  {
   "cell_type": "markdown",
   "id": "2ef6a27a-f37e-48d6-86e4-ab5ee68c63d9",
   "metadata": {},
   "source": [
    "# Reading the csv file to a dataframe"
   ]
  },
  {
   "cell_type": "code",
   "execution_count": 5,
   "id": "1ff1c44d-a1fb-4856-b1f6-0a1d1bb2c9e1",
   "metadata": {},
   "outputs": [],
   "source": [
    "fam_exp = pandas.read_csv('Family Income and Expenditure.csv')"
   ]
  },
  {
   "cell_type": "code",
   "execution_count": 6,
   "id": "67d61dcc-9dfd-4fc4-92c4-ab10af9e2413",
   "metadata": {},
   "outputs": [
    {
     "name": "stdout",
     "output_type": "stream",
     "text": [
      "<class 'pandas.core.frame.DataFrame'>\n"
     ]
    }
   ],
   "source": [
    "print(type(fam_exp))"
   ]
  },
  {
   "cell_type": "markdown",
   "id": "58570292-dd46-44d6-afab-c4f093998495",
   "metadata": {},
   "source": [
    "# dataframe output"
   ]
  },
  {
   "cell_type": "code",
   "execution_count": 7,
   "id": "807d5219-7d5c-44db-8ac8-c889251493b9",
   "metadata": {},
   "outputs": [
    {
     "name": "stdout",
     "output_type": "stream",
     "text": [
      "       Total Household Income              Region  Total Food Expenditure  \\\n",
      "0                      480332                 CAR                  117848   \n",
      "1                      198235                 CAR                   67766   \n",
      "2                       82785                 CAR                   61609   \n",
      "3                      107589                 CAR                   78189   \n",
      "4                      189322                 CAR                   94625   \n",
      "...                       ...                 ...                     ...   \n",
      "41539                  119773  XII - SOCCSKSARGEN                   44875   \n",
      "41540                  137320  XII - SOCCSKSARGEN                   31157   \n",
      "41541                  133171  XII - SOCCSKSARGEN                   45882   \n",
      "41542                  129500  XII - SOCCSKSARGEN                   81416   \n",
      "41543                  128598  XII - SOCCSKSARGEN                   78195   \n",
      "\n",
      "            Main Source of Income  Agricultural Household indicator  \\\n",
      "0                   Wage/Salaries                                 0   \n",
      "1                   Wage/Salaries                                 0   \n",
      "2                   Wage/Salaries                                 1   \n",
      "3                   Wage/Salaries                                 0   \n",
      "4                   Wage/Salaries                                 0   \n",
      "...                           ...                               ...   \n",
      "41539  Enterpreneurial Activities                                 1   \n",
      "41540  Enterpreneurial Activities                                 1   \n",
      "41541  Enterpreneurial Activities                                 2   \n",
      "41542  Enterpreneurial Activities                                 1   \n",
      "41543  Enterpreneurial Activities                                 1   \n",
      "\n",
      "       Bread and Cereals Expenditure  Total Rice Expenditure  \\\n",
      "0                              42140                   38300   \n",
      "1                              17329                   13008   \n",
      "2                              34182                   32001   \n",
      "3                              34030                   28659   \n",
      "4                              34820                   30167   \n",
      "...                              ...                     ...   \n",
      "41539                          23675                   21542   \n",
      "41540                           2691                    1273   \n",
      "41541                          28646                   27339   \n",
      "41542                          29996                   26655   \n",
      "41543                          43485                   41205   \n",
      "\n",
      "       Meat Expenditure  Total Fish and  marine products Expenditure  \\\n",
      "0                 24676                                        16806   \n",
      "1                 17434                                        11073   \n",
      "2                  7783                                         2590   \n",
      "3                 10914                                        10812   \n",
      "4                 18391                                        11309   \n",
      "...                 ...                                          ...   \n",
      "41539              1476                                         6120   \n",
      "41540              1886                                         4386   \n",
      "41541               480                                         4796   \n",
      "41542              2359                                        17730   \n",
      "41543              1985                                         7735   \n",
      "\n",
      "       Fruit Expenditure  ...  Number of Refrigerator/Freezer  \\\n",
      "0                   3325  ...                               1   \n",
      "1                   2035  ...                               0   \n",
      "2                   1730  ...                               0   \n",
      "3                    690  ...                               0   \n",
      "4                   1395  ...                               1   \n",
      "...                  ...  ...                             ...   \n",
      "41539               1632  ...                               0   \n",
      "41540               1840  ...                               0   \n",
      "41541               1232  ...                               0   \n",
      "41542               2923  ...                               0   \n",
      "41543               2062  ...                               0   \n",
      "\n",
      "       Number of Washing Machine  Number of Airconditioner  \\\n",
      "0                              1                         0   \n",
      "1                              1                         0   \n",
      "2                              0                         0   \n",
      "3                              0                         0   \n",
      "4                              0                         0   \n",
      "...                          ...                       ...   \n",
      "41539                          0                         0   \n",
      "41540                          0                         0   \n",
      "41541                          0                         0   \n",
      "41542                          0                         0   \n",
      "41543                          0                         0   \n",
      "\n",
      "       Number of Car, Jeep, Van  Number of Landline/wireless telephones  \\\n",
      "0                             0                                       0   \n",
      "1                             0                                       0   \n",
      "2                             0                                       0   \n",
      "3                             0                                       0   \n",
      "4                             0                                       0   \n",
      "...                         ...                                     ...   \n",
      "41539                         0                                       0   \n",
      "41540                         0                                       0   \n",
      "41541                         0                                       0   \n",
      "41542                         0                                       0   \n",
      "41543                         0                                       0   \n",
      "\n",
      "       Number of Cellular phone  Number of Personal Computer  \\\n",
      "0                             2                            1   \n",
      "1                             3                            1   \n",
      "2                             0                            0   \n",
      "3                             1                            0   \n",
      "4                             3                            0   \n",
      "...                         ...                          ...   \n",
      "41539                         1                            0   \n",
      "41540                         3                            0   \n",
      "41541                         1                            0   \n",
      "41542                         2                            0   \n",
      "41543                         1                            0   \n",
      "\n",
      "       Number of Stove with Oven/Gas Range  Number of Motorized Banca  \\\n",
      "0                                        0                          0   \n",
      "1                                        0                          0   \n",
      "2                                        0                          0   \n",
      "3                                        0                          0   \n",
      "4                                        0                          0   \n",
      "...                                    ...                        ...   \n",
      "41539                                    0                          0   \n",
      "41540                                    0                          0   \n",
      "41541                                    0                          0   \n",
      "41542                                    0                          0   \n",
      "41543                                    0                          0   \n",
      "\n",
      "       Number of Motorcycle/Tricycle  \n",
      "0                                  1  \n",
      "1                                  2  \n",
      "2                                  0  \n",
      "3                                  0  \n",
      "4                                  1  \n",
      "...                              ...  \n",
      "41539                              0  \n",
      "41540                              0  \n",
      "41541                              0  \n",
      "41542                              0  \n",
      "41543                              0  \n",
      "\n",
      "[41544 rows x 60 columns]\n"
     ]
    }
   ],
   "source": [
    "print(fam_exp)"
   ]
  },
  {
   "cell_type": "markdown",
   "id": "e39ebffb-c55a-4883-b1e0-81bba64a0c91",
   "metadata": {},
   "source": [
    "## Column names"
   ]
  },
  {
   "cell_type": "code",
   "execution_count": 12,
   "id": "427a0e47-8514-4dfc-9dd8-0e1ad652259a",
   "metadata": {},
   "outputs": [
    {
     "data": {
      "text/plain": [
       "array(['Total Household Income', 'Region', 'Total Food Expenditure',\n",
       "       'Main Source of Income', 'Agricultural Household indicator',\n",
       "       'Bread and Cereals Expenditure', 'Total Rice Expenditure',\n",
       "       'Meat Expenditure', 'Total Fish and  marine products Expenditure',\n",
       "       'Fruit Expenditure', 'Vegetables Expenditure',\n",
       "       'Restaurant and hotels Expenditure',\n",
       "       'Alcoholic Beverages Expenditure', 'Tobacco Expenditure',\n",
       "       'Clothing, Footwear and Other Wear Expenditure',\n",
       "       'Housing and water Expenditure', 'Imputed House Rental Value',\n",
       "       'Medical Care Expenditure', 'Transportation Expenditure',\n",
       "       'Communication Expenditure', 'Education Expenditure',\n",
       "       'Miscellaneous Goods and Services Expenditure',\n",
       "       'Special Occasions Expenditure',\n",
       "       'Crop Farming and Gardening expenses',\n",
       "       'Total Income from Entrepreneurial Acitivites',\n",
       "       'Household Head Sex', 'Household Head Age',\n",
       "       'Household Head Marital Status',\n",
       "       'Household Head Highest Grade Completed',\n",
       "       'Household Head Job or Business Indicator',\n",
       "       'Household Head Occupation', 'Household Head Class of Worker',\n",
       "       'Type of Household', 'Total Number of Family members',\n",
       "       'Members with age less than 5 year old',\n",
       "       'Members with age 5 - 17 years old',\n",
       "       'Total number of family members employed',\n",
       "       'Type of Building/House', 'Type of Roof', 'Type of Walls',\n",
       "       'House Floor Area', 'House Age', 'Number of bedrooms',\n",
       "       'Tenure Status', 'Toilet Facilities', 'Electricity',\n",
       "       'Main Source of Water Supply', 'Number of Television',\n",
       "       'Number of CD/VCD/DVD', 'Number of Component/Stereo set',\n",
       "       'Number of Refrigerator/Freezer', 'Number of Washing Machine',\n",
       "       'Number of Airconditioner', 'Number of Car, Jeep, Van',\n",
       "       'Number of Landline/wireless telephones',\n",
       "       'Number of Cellular phone', 'Number of Personal Computer',\n",
       "       'Number of Stove with Oven/Gas Range', 'Number of Motorized Banca',\n",
       "       'Number of Motorcycle/Tricycle'], dtype=object)"
      ]
     },
     "execution_count": 12,
     "metadata": {},
     "output_type": "execute_result"
    }
   ],
   "source": [
    "fam_exp.columns.values"
   ]
  },
  {
   "cell_type": "code",
   "execution_count": 18,
   "id": "1799a075-20e0-46cf-8cc0-5f34b256c64b",
   "metadata": {},
   "outputs": [
    {
     "data": {
      "text/plain": [
       "0        4\n",
       "1        3\n",
       "2        6\n",
       "3        3\n",
       "4        4\n",
       "        ..\n",
       "41539    6\n",
       "41540    6\n",
       "41541    4\n",
       "41542    9\n",
       "41543    8\n",
       "Name: Total Number of Family members, Length: 41544, dtype: int64"
      ]
     },
     "execution_count": 18,
     "metadata": {},
     "output_type": "execute_result"
    }
   ],
   "source": [
    "fam_exp['Total Number of Family members']"
   ]
  },
  {
   "cell_type": "markdown",
   "id": "909c85ea-ce24-485b-9af3-2cd2b3974948",
   "metadata": {},
   "source": [
    "## Largest number of family members, its Region, and its rice expenditure"
   ]
  },
  {
   "cell_type": "code",
   "execution_count": 101,
   "id": "d342af5e-05bc-45bb-ab2d-7b551b93758e",
   "metadata": {},
   "outputs": [
    {
     "name": "stdout",
     "output_type": "stream",
     "text": [
      "26 family members\n",
      "II - Cagayan Valley Region\n",
      "Total Rice Expenditure = 63960\n",
      "1 employed family member\n"
     ]
    }
   ],
   "source": [
    "mem = list(fam_exp['Total Number of Family members'])\n",
    "rice_exp_list = list(fam_exp['Total Rice Expenditure'])\n",
    "region_list = list(fam_exp['Region'])\n",
    "employed_members = list(fam_exp['Total number of family members employed'])\n",
    "for item in mem:\n",
    "    if item == max(mem):\n",
    "        # print(mem.index(item))\n",
    "        print(f'{item} family members')\n",
    "        print(f'{region_list[mem.index(item)]} Region')\n",
    "        print(f'Total Rice Expenditure = {rice_exp_list[mem.index(item)]}')\n",
    "        print(f'{employed_members[mem.index(item)]} employed family member/s')"
   ]
  },
  {
   "cell_type": "markdown",
   "id": "362b763d-1a58-4ea7-b228-42cb55ed6bae",
   "metadata": {},
   "source": [
    "## Highest Rice Expenditure, its region, and number of family members"
   ]
  },
  {
   "cell_type": "code",
   "execution_count": 105,
   "id": "898380f8-1b83-43a2-999a-3c05ccc11ae8",
   "metadata": {},
   "outputs": [
    {
     "name": "stdout",
     "output_type": "stream",
     "text": [
      "4 family members\n",
      "VII - Central Visayas Region\n",
      "Total Rice Expenditure = 758326\n",
      "0 employed family member/s\n"
     ]
    }
   ],
   "source": [
    "max_rice_exp = max(list(fam_exp['Total Rice Expenditure']))\n",
    "max_rice_exp_list = list(fam_exp['Total Rice Expenditure'])\n",
    "max_rice_exp_index = max_rice_exp_list.index(max_rice_exp)\n",
    "# print(max_rice_exp_index)\n",
    "print(f'{mem[max_rice_exp_index]} family members')\n",
    "print(f'{region_list[max_rice_exp_index]} Region')\n",
    "print(f'Total Rice Expenditure = {max_rice_exp}')\n",
    "print(f'{employed_members[max_rice_exp_index]} employed family member/s')"
   ]
  },
  {
   "cell_type": "markdown",
   "id": "1091a359-633c-49db-9989-d80fabb3fddb",
   "metadata": {},
   "source": [
    "## Lowest Rice Expenditure, its Region, and number of family members"
   ]
  },
  {
   "cell_type": "code",
   "execution_count": 104,
   "id": "4b5d0dd4-70e5-42fb-be87-72986031e426",
   "metadata": {},
   "outputs": [
    {
     "name": "stdout",
     "output_type": "stream",
     "text": [
      "7 family members\n",
      "Caraga Region\n",
      "Total Rice Expenditure = 0\n",
      "2 employed family member/s\n"
     ]
    }
   ],
   "source": [
    "lowest_rice_exp = min(list(fam_exp['Total Rice Expenditure']))\n",
    "index_of_lowest_rice_exp = list(fam_exp['Total Rice Expenditure']).index(lowest_rice_exp)\n",
    "# print(index_of_lowest_rice_exp)\n",
    "print(f'{mem[index_of_lowest_rice_exp]} family members')\n",
    "print(f'{region_list[index_of_lowest_rice_exp]} Region')\n",
    "print(f'Total Rice Expenditure = {lowest_rice_exp}')\n",
    "print(f'{employed_members[index_of_lowest_rice_exp]} employed family member/s')"
   ]
  },
  {
   "cell_type": "markdown",
   "id": "ef58506a-ac85-4244-92f9-d20af321c9ad",
   "metadata": {},
   "source": [
    "## Printing multiple colums"
   ]
  },
  {
   "cell_type": "code",
   "execution_count": 98,
   "id": "20c51ce2-9ab6-4d52-9d75-3e62d80d9fd6",
   "metadata": {},
   "outputs": [
    {
     "data": {
      "text/html": [
       "<div>\n",
       "<style scoped>\n",
       "    .dataframe tbody tr th:only-of-type {\n",
       "        vertical-align: middle;\n",
       "    }\n",
       "\n",
       "    .dataframe tbody tr th {\n",
       "        vertical-align: top;\n",
       "    }\n",
       "\n",
       "    .dataframe thead th {\n",
       "        text-align: right;\n",
       "    }\n",
       "</style>\n",
       "<table border=\"1\" class=\"dataframe\">\n",
       "  <thead>\n",
       "    <tr style=\"text-align: right;\">\n",
       "      <th></th>\n",
       "      <th>Main Source of Income</th>\n",
       "      <th>Total Income from Entrepreneurial Acitivites</th>\n",
       "      <th>Total number of family members employed</th>\n",
       "    </tr>\n",
       "  </thead>\n",
       "  <tbody>\n",
       "    <tr>\n",
       "      <th>0</th>\n",
       "      <td>Wage/Salaries</td>\n",
       "      <td>44370</td>\n",
       "      <td>1</td>\n",
       "    </tr>\n",
       "    <tr>\n",
       "      <th>1</th>\n",
       "      <td>Wage/Salaries</td>\n",
       "      <td>0</td>\n",
       "      <td>2</td>\n",
       "    </tr>\n",
       "    <tr>\n",
       "      <th>2</th>\n",
       "      <td>Wage/Salaries</td>\n",
       "      <td>0</td>\n",
       "      <td>3</td>\n",
       "    </tr>\n",
       "    <tr>\n",
       "      <th>3</th>\n",
       "      <td>Wage/Salaries</td>\n",
       "      <td>15580</td>\n",
       "      <td>2</td>\n",
       "    </tr>\n",
       "    <tr>\n",
       "      <th>4</th>\n",
       "      <td>Wage/Salaries</td>\n",
       "      <td>75687</td>\n",
       "      <td>2</td>\n",
       "    </tr>\n",
       "    <tr>\n",
       "      <th>...</th>\n",
       "      <td>...</td>\n",
       "      <td>...</td>\n",
       "      <td>...</td>\n",
       "    </tr>\n",
       "    <tr>\n",
       "      <th>41539</th>\n",
       "      <td>Enterpreneurial Activities</td>\n",
       "      <td>94120</td>\n",
       "      <td>0</td>\n",
       "    </tr>\n",
       "    <tr>\n",
       "      <th>41540</th>\n",
       "      <td>Enterpreneurial Activities</td>\n",
       "      <td>78270</td>\n",
       "      <td>0</td>\n",
       "    </tr>\n",
       "    <tr>\n",
       "      <th>41541</th>\n",
       "      <td>Enterpreneurial Activities</td>\n",
       "      <td>98545</td>\n",
       "      <td>1</td>\n",
       "    </tr>\n",
       "    <tr>\n",
       "      <th>41542</th>\n",
       "      <td>Enterpreneurial Activities</td>\n",
       "      <td>107435</td>\n",
       "      <td>0</td>\n",
       "    </tr>\n",
       "    <tr>\n",
       "      <th>41543</th>\n",
       "      <td>Enterpreneurial Activities</td>\n",
       "      <td>105547</td>\n",
       "      <td>0</td>\n",
       "    </tr>\n",
       "  </tbody>\n",
       "</table>\n",
       "<p>41544 rows × 3 columns</p>\n",
       "</div>"
      ],
      "text/plain": [
       "            Main Source of Income  \\\n",
       "0                   Wage/Salaries   \n",
       "1                   Wage/Salaries   \n",
       "2                   Wage/Salaries   \n",
       "3                   Wage/Salaries   \n",
       "4                   Wage/Salaries   \n",
       "...                           ...   \n",
       "41539  Enterpreneurial Activities   \n",
       "41540  Enterpreneurial Activities   \n",
       "41541  Enterpreneurial Activities   \n",
       "41542  Enterpreneurial Activities   \n",
       "41543  Enterpreneurial Activities   \n",
       "\n",
       "       Total Income from Entrepreneurial Acitivites  \\\n",
       "0                                             44370   \n",
       "1                                                 0   \n",
       "2                                                 0   \n",
       "3                                             15580   \n",
       "4                                             75687   \n",
       "...                                             ...   \n",
       "41539                                         94120   \n",
       "41540                                         78270   \n",
       "41541                                         98545   \n",
       "41542                                        107435   \n",
       "41543                                        105547   \n",
       "\n",
       "       Total number of family members employed  \n",
       "0                                            1  \n",
       "1                                            2  \n",
       "2                                            3  \n",
       "3                                            2  \n",
       "4                                            2  \n",
       "...                                        ...  \n",
       "41539                                        0  \n",
       "41540                                        0  \n",
       "41541                                        1  \n",
       "41542                                        0  \n",
       "41543                                        0  \n",
       "\n",
       "[41544 rows x 3 columns]"
      ]
     },
     "execution_count": 98,
     "metadata": {},
     "output_type": "execute_result"
    }
   ],
   "source": [
    "fam_exp[['Main Source of Income','Total Income from Entrepreneurial Acitivites','Total number of family members employed']]"
   ]
  },
  {
   "cell_type": "markdown",
   "id": "93392f52-e9e7-4ecc-a233-4da7f0da9e01",
   "metadata": {},
   "source": [
    "## Histogram samples (import matplotlib) can only be used in dataframes"
   ]
  },
  {
   "cell_type": "code",
   "execution_count": 135,
   "id": "e2a6d17c-a27b-48a9-8422-9a9121418aff",
   "metadata": {},
   "outputs": [
    {
     "data": {
      "text/plain": [
       "<Axes: >"
      ]
     },
     "execution_count": 135,
     "metadata": {},
     "output_type": "execute_result"
    },
    {
     "data": {
      "image/png": "[encoded data removed]",
      "text/plain": [
       "<Figure size 640x480 with 1 Axes>"
      ]
     },
     "metadata": {},
     "output_type": "display_data"
    }
   ],
   "source": [
    "# fam_exp['Total number of family members employed'].hist()\n",
    "# list(fam_exp['Total number of family members employed'])\n",
    "fam_exp['Total number of family members employed'].hist()"
   ]
  },
  {
   "cell_type": "markdown",
   "id": "56156d6c-c1fa-4edc-9b70-e4f57f7cdef0",
   "metadata": {},
   "source": [
    "## Reflecting the histogram of families with zero and 1 member employed"
   ]
  },
  {
   "cell_type": "code",
   "execution_count": 133,
   "id": "91ae0749-3b8b-49cd-b9f1-f2debb8fa1db",
   "metadata": {},
   "outputs": [
    {
     "name": "stdout",
     "output_type": "stream",
     "text": [
      "11494 families with no member employed\n"
     ]
    }
   ],
   "source": [
    "fam_with_only_no_employed = [item for item in fam_exp['Total number of family members employed'] if item == 0]\n",
    "print(f'{len(fam_with_only_no_employed)} families with no member employed')"
   ]
  },
  {
   "cell_type": "code",
   "execution_count": 137,
   "id": "273ccceb-1ea7-4646-9e0b-54ebde791825",
   "metadata": {},
   "outputs": [
    {
     "name": "stdout",
     "output_type": "stream",
     "text": [
      "15312 families with only one member employed\n"
     ]
    }
   ],
   "source": [
    "fam_with_only_one_employed = [item for item in fam_exp['Total number of family members employed'] if item == 1]\n",
    "print(f'{len(fam_with_only_one_employed)} families with only one member employed')"
   ]
  },
  {
   "cell_type": "markdown",
   "id": "001c8db9-2a22-45f9-a169-2b05b9515a70",
   "metadata": {},
   "source": [
    "## Using mask when creating a new column"
   ]
  },
  {
   "cell_type": "code",
   "execution_count": 143,
   "id": "a800d1d0-5abf-414d-8fc1-f41a3718750c",
   "metadata": {},
   "outputs": [
    {
     "name": "stdout",
     "output_type": "stream",
     "text": [
      "       Total Household Income              Region  Total Food Expenditure  \\\n",
      "0                      480332                 CAR                  117848   \n",
      "1                      198235                 CAR                   67766   \n",
      "2                       82785                 CAR                   61609   \n",
      "3                      107589                 CAR                   78189   \n",
      "4                      189322                 CAR                   94625   \n",
      "...                       ...                 ...                     ...   \n",
      "41539                  119773  XII - SOCCSKSARGEN                   44875   \n",
      "41540                  137320  XII - SOCCSKSARGEN                   31157   \n",
      "41541                  133171  XII - SOCCSKSARGEN                   45882   \n",
      "41542                  129500  XII - SOCCSKSARGEN                   81416   \n",
      "41543                  128598  XII - SOCCSKSARGEN                   78195   \n",
      "\n",
      "            Main Source of Income  Agricultural Household indicator  \\\n",
      "0                   Wage/Salaries                                 0   \n",
      "1                   Wage/Salaries                                 0   \n",
      "2                   Wage/Salaries                                 1   \n",
      "3                   Wage/Salaries                                 0   \n",
      "4                   Wage/Salaries                                 0   \n",
      "...                           ...                               ...   \n",
      "41539  Enterpreneurial Activities                                 1   \n",
      "41540  Enterpreneurial Activities                                 1   \n",
      "41541  Enterpreneurial Activities                                 2   \n",
      "41542  Enterpreneurial Activities                                 1   \n",
      "41543  Enterpreneurial Activities                                 1   \n",
      "\n",
      "       Bread and Cereals Expenditure  Total Rice Expenditure  \\\n",
      "0                              42140                   38300   \n",
      "1                              17329                   13008   \n",
      "2                              34182                   32001   \n",
      "3                              34030                   28659   \n",
      "4                              34820                   30167   \n",
      "...                              ...                     ...   \n",
      "41539                          23675                   21542   \n",
      "41540                           2691                    1273   \n",
      "41541                          28646                   27339   \n",
      "41542                          29996                   26655   \n",
      "41543                          43485                   41205   \n",
      "\n",
      "       Meat Expenditure  Total Fish and  marine products Expenditure  \\\n",
      "0                 24676                                        16806   \n",
      "1                 17434                                        11073   \n",
      "2                  7783                                         2590   \n",
      "3                 10914                                        10812   \n",
      "4                 18391                                        11309   \n",
      "...                 ...                                          ...   \n",
      "41539              1476                                         6120   \n",
      "41540              1886                                         4386   \n",
      "41541               480                                         4796   \n",
      "41542              2359                                        17730   \n",
      "41543              1985                                         7735   \n",
      "\n",
      "       Fruit Expenditure  ...  Number of Washing Machine  \\\n",
      "0                   3325  ...                          1   \n",
      "1                   2035  ...                          1   \n",
      "2                   1730  ...                          0   \n",
      "3                    690  ...                          0   \n",
      "4                   1395  ...                          0   \n",
      "...                  ...  ...                        ...   \n",
      "41539               1632  ...                          0   \n",
      "41540               1840  ...                          0   \n",
      "41541               1232  ...                          0   \n",
      "41542               2923  ...                          0   \n",
      "41543               2062  ...                          0   \n",
      "\n",
      "       Number of Airconditioner  Number of Car, Jeep, Van  \\\n",
      "0                             0                         0   \n",
      "1                             0                         0   \n",
      "2                             0                         0   \n",
      "3                             0                         0   \n",
      "4                             0                         0   \n",
      "...                         ...                       ...   \n",
      "41539                         0                         0   \n",
      "41540                         0                         0   \n",
      "41541                         0                         0   \n",
      "41542                         0                         0   \n",
      "41543                         0                         0   \n",
      "\n",
      "       Number of Landline/wireless telephones  Number of Cellular phone  \\\n",
      "0                                           0                         2   \n",
      "1                                           0                         3   \n",
      "2                                           0                         0   \n",
      "3                                           0                         1   \n",
      "4                                           0                         3   \n",
      "...                                       ...                       ...   \n",
      "41539                                       0                         1   \n",
      "41540                                       0                         3   \n",
      "41541                                       0                         1   \n",
      "41542                                       0                         2   \n",
      "41543                                       0                         1   \n",
      "\n",
      "       Number of Personal Computer  Number of Stove with Oven/Gas Range  \\\n",
      "0                                1                                    0   \n",
      "1                                1                                    0   \n",
      "2                                0                                    0   \n",
      "3                                0                                    0   \n",
      "4                                0                                    0   \n",
      "...                            ...                                  ...   \n",
      "41539                            0                                    0   \n",
      "41540                            0                                    0   \n",
      "41541                            0                                    0   \n",
      "41542                            0                                    0   \n",
      "41543                            0                                    0   \n",
      "\n",
      "       Number of Motorized Banca  Number of Motorcycle/Tricycle  \\\n",
      "0                              0                              1   \n",
      "1                              0                              2   \n",
      "2                              0                              0   \n",
      "3                              0                              0   \n",
      "4                              0                              1   \n",
      "...                          ...                            ...   \n",
      "41539                          0                              0   \n",
      "41540                          0                              0   \n",
      "41541                          0                              0   \n",
      "41542                          0                              0   \n",
      "41543                          0                              0   \n",
      "\n",
      "       New Mask Column  \n",
      "0                  1.0  \n",
      "1                  2.0  \n",
      "2                  NaN  \n",
      "3                  NaN  \n",
      "4                  1.0  \n",
      "...                ...  \n",
      "41539              NaN  \n",
      "41540              NaN  \n",
      "41541              NaN  \n",
      "41542              NaN  \n",
      "41543              NaN  \n",
      "\n",
      "[41544 rows x 61 columns]\n"
     ]
    }
   ],
   "source": [
    "import numpy\n",
    "fam_exp['New Mask Column'] = fam_exp['Number of Motorcycle/Tricycle'].mask(fam_exp['Number of Motorcycle/Tricycle']==0,numpy.nan)\n",
    "print(fam_exp)"
   ]
  },
  {
   "cell_type": "code",
   "execution_count": null,
   "id": "866624fe-a7bc-4e40-9ced-8b48eb330dea",
   "metadata": {},
   "outputs": [],
   "source": []
  }
 ],
 "metadata": {
  "kernelspec": {
   "display_name": "Python 3 (ipykernel)",
   "language": "python",
   "name": "python3"
  },
  "language_info": {
   "codemirror_mode": {
    "name": "ipython",
    "version": 3
   },
   "file_extension": ".py",
   "mimetype": "text/x-python",
   "name": "python",
   "nbconvert_exporter": "python",
   "pygments_lexer": "ipython3",
   "version": "3.11.5"
  }
 },
 "nbformat": 4,
 "nbformat_minor": 5
}
