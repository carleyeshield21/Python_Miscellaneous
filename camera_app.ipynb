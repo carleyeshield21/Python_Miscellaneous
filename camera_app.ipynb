{
 "cells": [
  {
   "cell_type": "markdown",
   "id": "1c0e0da3-3a0c-4546-a025-5ec386b4c8d3",
   "metadata": {},
   "source": [
    "## Importing glob module to find file paths, finding files in a directory with specific extensions"
   ]
  },
  {
   "cell_type": "code",
   "execution_count": 16,
   "id": "7cfc8670-42db-4de2-aa55-ca9c68f2c610",
   "metadata": {},
   "outputs": [],
   "source": [
    "import glob\n",
    "pdf_files = glob.glob('*.pdf')\n",
    "txt_files = glob.glob('*.txt')"
   ]
  },
  {
   "cell_type": "code",
   "execution_count": 19,
   "id": "ea0a4d3d-8e0b-4c7b-95fe-9da7c498ac9e",
   "metadata": {},
   "outputs": [
    {
     "data": {
      "text/plain": [
       "['MikeMaloney.pdf', \"Carl's Comprehensive CVPDF.pdf\"]"
      ]
     },
     "execution_count": 19,
     "metadata": {},
     "output_type": "execute_result"
    }
   ],
   "source": [
    "pdf_files"
   ]
  },
  {
   "cell_type": "code",
   "execution_count": 20,
   "id": "1c6457d8-9423-425a-9e34-f921550751ad",
   "metadata": {},
   "outputs": [
    {
     "data": {
      "text/plain": [
       "['file.txt']"
      ]
     },
     "execution_count": 20,
     "metadata": {},
     "output_type": "execute_result"
    }
   ],
   "source": [
    "txt_files"
   ]
  },
  {
   "cell_type": "markdown",
   "id": "0365868a-57e9-4426-b8e3-0a92b353320a",
   "metadata": {},
   "source": [
    "## Finding files in a photo directory"
   ]
  },
  {
   "cell_type": "code",
   "execution_count": 32,
   "id": "26e0c1f0-098f-4638-94eb-b02c2bcf4900",
   "metadata": {},
   "outputs": [
    {
     "name": "stdout",
     "output_type": "stream",
     "text": [
      "['detected_images/1.png', 'detected_images/2.png', 'detected_images/3.png', 'detected_images/4.png', 'detected_images/5.png', 'detected_images/6.png', 'detected_images/7.png', 'detected_images/8.png', 'detected_images/9.png', 'detected_images/10.png', 'detected_images/11.png', 'detected_images/12.png', 'detected_images/13.png', 'detected_images/14.png', 'detected_images/15.png', 'detected_images/16.png', 'detected_images/17.png', 'detected_images/18.png', 'detected_images/19.png', 'detected_images/20.png', 'detected_images/21.png']\n",
      "10\n",
      "detected_images/11.png\n"
     ]
    }
   ],
   "source": [
    "photos_detected = glob.glob('detected_images/*.png')\n",
    "print(photos_detected)\n",
    "photos_detected = glob.glob('detected_images/*.png')\n",
    "photo_index = int(len(photos_detected)/2)\n",
    "print(photo_index)\n",
    "print(photos_detected[photo_index])"
   ]
  },
  {
   "cell_type": "code",
   "execution_count": null,
   "id": "ab9b7460-5c3a-40df-8747-a94421935c0d",
   "metadata": {},
   "outputs": [],
   "source": []
  }
 ],
 "metadata": {
  "kernelspec": {
   "display_name": "Python 3 (ipykernel)",
   "language": "python",
   "name": "python3"
  },
  "language_info": {
   "codemirror_mode": {
    "name": "ipython",
    "version": 3
   },
   "file_extension": ".py",
   "mimetype": "text/x-python",
   "name": "python",
   "nbconvert_exporter": "python",
   "pygments_lexer": "ipython3",
   "version": "3.11.5"
  }
 },
 "nbformat": 4,
 "nbformat_minor": 5
}
